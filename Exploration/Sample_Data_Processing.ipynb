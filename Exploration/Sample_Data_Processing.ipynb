{
 "cells": [
  {
   "cell_type": "code",
   "execution_count": 1,
   "id": "d40f262a",
   "metadata": {},
   "outputs": [],
   "source": [
    "import sys\n",
    "import time\n",
    "import numpy as np  \n",
    "import matplotlib.pyplot as plt\n",
    "import matplotlib.colors as colors\n",
    "\n",
    "import h5py\n",
    "from numba import jit,njit"
   ]
  },
  {
   "cell_type": "markdown",
   "id": "d54e671b",
   "metadata": {},
   "source": [
    "## Reading HDF5 Files\n",
    "\n",
    "This setion involves reading the HDF5 files and understanding the sturcture and format of the data"
   ]
  },
  {
   "cell_type": "code",
   "execution_count": 2,
   "id": "2486e58d",
   "metadata": {},
   "outputs": [
    {
     "name": "stdout",
     "output_type": "stream",
     "text": [
      "/\n",
      "<class 'h5py._hl.files.File'>\n"
     ]
    },
    {
     "data": {
      "text/plain": [
       "['scales', 'tasks']"
      ]
     },
     "execution_count": 2,
     "metadata": {},
     "output_type": "execute_result"
    }
   ],
   "source": [
    "f1 = h5py.File('small_QL_g_s1_p0.h5', 'r')\n",
    "\n",
    "fileGroup = f1\n",
    "print(fileGroup.name)\n",
    "\n",
    "print(type(f1))\n",
    "list(f1.keys())"
   ]
  },
  {
   "cell_type": "code",
   "execution_count": 3,
   "id": "504359dc",
   "metadata": {},
   "outputs": [
    {
     "name": "stdout",
     "output_type": "stream",
     "text": [
      "<HDF5 group \"/scales\" (13 members)>\n"
     ]
    },
    {
     "data": {
      "text/plain": [
       "['Tr',\n",
       " 'constant',\n",
       " 'iteration',\n",
       " 'kth',\n",
       " 'kz',\n",
       " 'r',\n",
       " 'sim_time',\n",
       " 'th',\n",
       " 'timestep',\n",
       " 'wall_time',\n",
       " 'world_time',\n",
       " 'write_number',\n",
       " 'z']"
      ]
     },
     "execution_count": 3,
     "metadata": {},
     "output_type": "execute_result"
    }
   ],
   "source": [
    "Scale = f1['scales']\n",
    "print(Scale)\n",
    "list(Scale.keys())"
   ]
  },
  {
   "cell_type": "code",
   "execution_count": 4,
   "id": "0b8089f4",
   "metadata": {},
   "outputs": [
    {
     "name": "stdout",
     "output_type": "stream",
     "text": [
      "<HDF5 group \"/tasks\" (8 members)>\n"
     ]
    },
    {
     "data": {
      "text/plain": [
       "['ph', 'pl', 'uh', 'ul', 'vh', 'vl', 'wh', 'wl']"
      ]
     },
     "execution_count": 4,
     "metadata": {},
     "output_type": "execute_result"
    }
   ],
   "source": [
    "Tasks = f1['tasks']\n",
    "print(Tasks)\n",
    "list(Tasks.keys())"
   ]
  },
  {
   "cell_type": "code",
   "execution_count": 5,
   "id": "ba8a2cc2",
   "metadata": {
    "scrolled": true
   },
   "outputs": [
    {
     "name": "stdout",
     "output_type": "stream",
     "text": [
      "scales\n",
      "scales/Tr\n",
      "scales/constant\n",
      "scales/iteration\n",
      "scales/kth\n",
      "scales/kz\n",
      "scales/r\n",
      "scales/r/1.0\n",
      "scales/sim_time\n",
      "scales/th\n",
      "scales/th/1.0\n",
      "scales/timestep\n",
      "scales/wall_time\n",
      "scales/world_time\n",
      "scales/write_number\n",
      "scales/z\n",
      "scales/z/1.0\n",
      "tasks\n",
      "tasks/ph\n",
      "tasks/pl\n",
      "tasks/uh\n",
      "tasks/ul\n",
      "tasks/vh\n",
      "tasks/vl\n",
      "tasks/wh\n",
      "tasks/wl\n"
     ]
    }
   ],
   "source": [
    "def printname(name):\n",
    "    print(name)\n",
    "f1.visit(printname)"
   ]
  },
  {
   "cell_type": "code",
   "execution_count": 6,
   "id": "2a2d00d2",
   "metadata": {},
   "outputs": [
    {
     "name": "stdout",
     "output_type": "stream",
     "text": [
      "<HDF5 group \"/scales\" (13 members)>\n",
      "<HDF5 dataset \"Tr\": shape (6,), type \"<i8\">\n",
      "<class 'h5py._hl.dataset.Dataset'>\n",
      "<HDF5 dataset \"1.0\": shape (6,), type \"<f8\">\n"
     ]
    }
   ],
   "source": [
    "print(f1['scales'])\n",
    "print(f1['scales/Tr'])\n",
    "print(type(f1['scales/Tr']))\n",
    "print(f1['scales/r/1.0'])"
   ]
  },
  {
   "cell_type": "code",
   "execution_count": 7,
   "id": "5a389bc1",
   "metadata": {},
   "outputs": [
    {
     "name": "stdout",
     "output_type": "stream",
     "text": [
      "scales\n",
      "scales/Tr\n",
      "scales/constant\n",
      "scales/iteration\n",
      "scales/kth\n",
      "scales/kz\n",
      "scales/r\n",
      "scales/sim_time\n",
      "scales/th\n",
      "scales/timestep\n",
      "scales/wall_time\n",
      "scales/world_time\n",
      "scales/write_number\n",
      "scales/z\n",
      "tasks\n",
      "tasks/phc\n",
      "tasks/plc\n",
      "tasks/uhc\n",
      "tasks/ulc\n",
      "tasks/vhc\n",
      "tasks/vlc\n",
      "tasks/whc\n",
      "tasks/wlc\n"
     ]
    }
   ],
   "source": [
    "f2 = h5py.File('smallQL_c_s1_p0.h5', 'r')\n",
    "f2.visit(printname)"
   ]
  },
  {
   "cell_type": "code",
   "execution_count": 8,
   "id": "c6118f52",
   "metadata": {
    "scrolled": true
   },
   "outputs": [
    {
     "name": "stdout",
     "output_type": "stream",
     "text": [
      "<HDF5 group \"/scales/r\" (0 members)>\n",
      "<class 'h5py._hl.group.Group'>\n",
      "<HDF5 group \"/scales/z\" (0 members)>\n",
      "<class 'h5py._hl.group.Group'>\n",
      "<HDF5 group \"/scales/th\" (0 members)>\n",
      "<class 'h5py._hl.group.Group'>\n",
      "<HDF5 dataset \"constant\": shape (1,), type \"<f8\">\n",
      "<class 'h5py._hl.dataset.Dataset'>\n",
      "(1,)\n",
      "float64\n",
      "0.0\n"
     ]
    }
   ],
   "source": [
    "print(f2['scales/r'])\n",
    "print(type(f2['scales/r']))\n",
    "\n",
    "print(f2['scales/z'])\n",
    "print(type(f2['scales/z']))\n",
    "\n",
    "print(f2['scales/th'])\n",
    "print(type(f2['scales/th']))\n",
    "\n",
    "print(f2['scales/constant'])\n",
    "print(type(f2['scales/constant']))\n",
    "\n",
    "dset = f2['scales/constant']\n",
    "print(dset.shape)\n",
    "print(dset.dtype)\n",
    "print(dset[0])"
   ]
  },
  {
   "cell_type": "code",
   "execution_count": 45,
   "id": "235b5ab0",
   "metadata": {},
   "outputs": [
    {
     "name": "stdout",
     "output_type": "stream",
     "text": [
      "(0,) []\n",
      "(0,) []\n",
      "(0,) []\n",
      "(10,) [0.         0.50008027 1.00022838 1.50037648 2.00014016 2.50028826\n",
      " 3.00005193 3.50020004 4.00034814 4.50011182]\n",
      "(10,) [1.00000000e-05 3.84433594e-04 3.84433594e-04 3.84433594e-04\n",
      " 3.84433594e-04 3.84433594e-04 3.84433594e-04 3.84433594e-04\n",
      " 3.84433594e-04 3.84433594e-04]\n",
      "(10, 3, 5, 6) \n",
      " [[[ 3.98706774e-20+0.00000000e+00j  1.63730890e-20-0.00000000e+00j\n",
      "   -1.38058884e-20+0.00000000e+00j -5.72175630e-20+0.00000000e+00j\n",
      "   -7.70487320e-20+0.00000000e+00j  8.77812361e-20-0.00000000e+00j]\n",
      "  [ 2.30258471e-19-5.83559093e-19j  6.71003746e-22-5.84551015e-20j\n",
      "   -3.07769663e-19+7.51697787e-19j -2.89207315e-20+1.20015305e-19j\n",
      "    9.47098444e-20-1.52700063e-19j  8.88102168e-20-1.17705332e-19j]\n",
      "  [ 2.71428674e-21+6.95675291e-21j -5.33340908e-21+1.39315604e-20j\n",
      "   -1.36761210e-20+3.41830524e-20j  1.12200860e-20-3.71728033e-20j\n",
      "    3.67435509e-20-1.13745672e-19j -9.46267175e-21+5.28051155e-20j]\n",
      "  [ 2.71428674e-21-6.95675291e-21j -5.33340908e-21-1.39315604e-20j\n",
      "   -1.36761210e-20-3.41830524e-20j  1.12200860e-20+3.71728033e-20j\n",
      "    3.67435509e-20+1.13745672e-19j -9.46267175e-21-5.28051155e-20j]\n",
      "  [ 2.30258471e-19+5.83559093e-19j  6.71003746e-22+5.84551015e-20j\n",
      "   -3.07769663e-19-7.51697787e-19j -2.89207315e-20-1.20015305e-19j\n",
      "    9.47098444e-20+1.52700063e-19j  8.88102168e-20+1.17705332e-19j]]\n",
      "\n",
      " [[-3.72043827e-20+6.41951631e-19j -1.46820254e-20-5.86772563e-20j\n",
      "   -6.01037612e-20-8.13239344e-19j  5.96260086e-20+7.86168561e-20j\n",
      "    3.01499423e-19+7.28972441e-20j -1.18644487e-19+8.93564927e-21j]\n",
      "  [ 1.36545097e-19-3.75284119e-04j  3.80190347e-19+5.66483899e-04j\n",
      "   -2.12065820e-19+4.19626421e-04j -6.48060306e-19-8.37281335e-04j\n",
      "    2.13920367e-20+2.11922694e-06j  3.21333009e-19+2.62825701e-04j]\n",
      "  [ 3.80421826e-19-3.61965413e-19j  5.55994292e-20+3.56701414e-20j\n",
      "   -4.24072557e-19+5.35924117e-19j -9.60467433e-20-3.67319397e-20j\n",
      "   -9.24846737e-20-2.18935964e-19j  6.05688750e-20+1.08550255e-20j]\n",
      "  [-3.13108850e-19-6.08755259e-19j  2.97139253e-20+2.26149429e-19j\n",
      "    4.09993613e-19+7.80225775e-19j  4.98057956e-20-4.07963614e-19j\n",
      "   -1.40499794e-19-1.66583909e-19j -2.39412894e-19+3.00249188e-19j]\n",
      "  [-6.08094296e-20-9.57916885e-03j -1.00216866e-19+5.66483899e-04j\n",
      "    1.10012205e-19+1.26914727e-02j  1.93330484e-19-8.37281335e-04j\n",
      "   -1.32459874e-19-3.06584235e-03j -1.83001784e-19+2.62825701e-04j]]\n",
      "\n",
      " [[ 9.26350786e-20-3.47595772e-20j  3.33635373e-20-3.22081319e-22j\n",
      "   -2.03925831e-19+7.42438295e-20j -1.75961930e-20+3.02902156e-20j\n",
      "    1.56184138e-19-9.73369908e-20j -5.17113200e-20-5.39256573e-20j]\n",
      "  [-3.75343479e-19+2.64010443e-19j -1.04956259e-20-7.57789590e-21j\n",
      "    5.54883615e-19-4.54064144e-19j  1.83613912e-20+2.54531125e-20j\n",
      "   -1.95603161e-19+2.79023066e-19j -1.23618438e-20-9.80418440e-22j]\n",
      "  [ 1.12339136e-19+1.57185371e-19j -3.66226614e-20+4.36236972e-20j\n",
      "   -1.75858209e-19-2.16964150e-19j  6.13461353e-20-1.28127824e-19j\n",
      "    6.14376414e-20+6.65610570e-20j  1.17866746e-20+1.11565665e-19j]\n",
      "  [-6.53488491e-20-2.11556966e-20j -5.26195577e-20+5.48307007e-20j\n",
      "    7.62300327e-20-9.49158861e-21j  1.07077255e-19-6.78174991e-20j\n",
      "   -1.81285723e-20+6.00914010e-20j -6.30362619e-20-5.54655140e-20j]\n",
      "  [ 1.08962203e-19-9.51721715e-19j -8.20082786e-20+4.77263497e-20j\n",
      "   -1.33188158e-19+1.31761174e-18j  1.45637531e-19-6.16518098e-20j\n",
      "   -5.07079222e-21-4.35192361e-19j -9.20316580e-20+1.94503414e-20j]]]\n"
     ]
    },
    {
     "data": {
      "text/plain": [
       "'\\nprint(ulc.shape,ulc)\\nprint(uhc.shape,uhc)\\nprint(vlc.shape,vlc)\\nprint(vhc.shape,vhc)\\nprint(wlc.shape,wlc)\\nprint(whc.shape,whc)\\n\\n'"
      ]
     },
     "execution_count": 45,
     "metadata": {},
     "output_type": "execute_result"
    }
   ],
   "source": [
    "r = f2['scales']['r']\n",
    "z = f2['scales']['z']\n",
    "th = f2['scales']['th']\n",
    "t = f2['scales']['sim_time']\n",
    "ts = f2['scales']['timestep']\n",
    "\n",
    "th = np.asarray(th)\n",
    "z = np.asarray(z)\n",
    "r = np.asarray(r)\n",
    "t = np.asarray(t)\n",
    "ts = np.asarray(ts)\n",
    "\n",
    "ulc = f2['tasks']['ulc']\n",
    "uhc = f2['tasks']['uhc']\n",
    "vlc = f2['tasks']['vlc']\n",
    "vhc = f2['tasks']['vhc']\n",
    "wlc = f2['tasks']['wlc']\n",
    "whc = f2['tasks']['whc']\n",
    "\n",
    "ulc = np.asarray(ulc)\n",
    "uhc = np.asarray(uhc)\n",
    "vlc = np.asarray(vlc)\n",
    "vhc = np.asarray(vhc)\n",
    "wlc = np.asarray(wlc)\n",
    "whc = np.asarray(whc)\n",
    "\n",
    "\n",
    "print(r.shape,r)\n",
    "print(z.shape,z)\n",
    "print(th.shape,th)\n",
    "print(t.shape,t)\n",
    "print(ts.shape,ts)\n",
    "\n",
    "print(ulc.shape,\"\\n\",ulc[0])\n",
    "\n",
    "\"\"\"\n",
    "print(ulc.shape,ulc)\n",
    "print(uhc.shape,uhc)\n",
    "print(vlc.shape,vlc)\n",
    "print(vhc.shape,vhc)\n",
    "print(wlc.shape,wlc)\n",
    "print(whc.shape,whc)\n",
    "\n",
    "\"\"\""
   ]
  },
  {
   "cell_type": "code",
   "execution_count": 50,
   "id": "73117682",
   "metadata": {},
   "outputs": [
    {
     "name": "stdout",
     "output_type": "stream",
     "text": [
      "(6,) [0.05085185 0.05732233 0.06852952 0.08147048 0.09267767 0.09914815]\n",
      "(6,) [0.         0.08333333 0.16666667 0.25       0.33333333 0.41666667]\n",
      "(6,) [0.         1.04719755 2.0943951  3.14159265 4.1887902  5.23598776]\n",
      "(10,) [0.         0.50008027 1.00022838 1.50037648 2.00014016 2.50028826\n",
      " 3.00005193 3.50020004 4.00034814 4.50011182]\n",
      "(10,) [1.00000000e-05 3.84433594e-04 3.84433594e-04 3.84433594e-04\n",
      " 3.84433594e-04 3.84433594e-04 3.84433594e-04 3.84433594e-04\n",
      " 3.84433594e-04 3.84433594e-04]\n",
      "(10, 6, 6, 6) \n",
      " [[[-1.83279656e-19 -5.13823727e-19  1.30157866e-18  1.06347783e-18\n",
      "    1.24502791e-18 -1.29023642e-19]\n",
      "  [-1.90759183e-04 -1.06277306e-02 -3.70062981e-02 -3.70062981e-02\n",
      "   -1.06277306e-02 -1.90759183e-04]\n",
      "  [-1.90759183e-04 -1.06277306e-02 -3.70062981e-02 -3.70062981e-02\n",
      "   -1.06277306e-02 -1.90759183e-04]\n",
      "  [ 1.09240042e-21 -4.51333301e-19  3.19146796e-18 -1.92933720e-19\n",
      "   -8.70620988e-19  1.55576309e-19]\n",
      "  [ 1.90759183e-04  1.06277306e-02  3.70062981e-02  3.70062981e-02\n",
      "    1.06277306e-02  1.90759183e-04]\n",
      "  [ 1.90759183e-04  1.06277306e-02  3.70062981e-02  3.70062981e-02\n",
      "    1.06277306e-02  1.90759183e-04]]\n",
      "\n",
      " [[ 3.08454738e-04  1.47298139e-02  4.29997686e-02  3.61232895e-02\n",
      "    9.14037451e-03  1.48008531e-04]\n",
      "  [ 5.88477778e-05  2.05104161e-03  2.99673526e-03 -4.41504284e-04\n",
      "   -7.43678071e-04 -2.13753256e-05]\n",
      "  [-2.49606960e-04 -1.26787723e-02 -4.00030334e-02 -3.65647938e-02\n",
      "   -9.88405258e-03 -1.69383857e-04]\n",
      "  [-3.08454738e-04 -1.47298139e-02 -4.29997686e-02 -3.61232895e-02\n",
      "   -9.14037451e-03 -1.48008531e-04]\n",
      "  [-5.88477778e-05 -2.05104161e-03 -2.99673526e-03  4.41504284e-04\n",
      "    7.43678071e-04  2.13753256e-05]\n",
      "  [ 2.49606960e-04  1.26787723e-02  4.00030334e-02  3.65647938e-02\n",
      "    9.88405258e-03  1.69383857e-04]]\n",
      "\n",
      " [[ 3.08454738e-04  1.47298139e-02  4.29997686e-02  3.61232895e-02\n",
      "    9.14037451e-03  1.48008531e-04]\n",
      "  [ 2.49606960e-04  1.26787723e-02  4.00030334e-02  3.65647938e-02\n",
      "    9.88405258e-03  1.69383857e-04]\n",
      "  [-5.88477778e-05 -2.05104161e-03 -2.99673526e-03  4.41504284e-04\n",
      "    7.43678071e-04  2.13753256e-05]\n",
      "  [-3.08454738e-04 -1.47298139e-02 -4.29997686e-02 -3.61232895e-02\n",
      "   -9.14037451e-03 -1.48008531e-04]\n",
      "  [-2.49606960e-04 -1.26787723e-02 -4.00030334e-02 -3.65647938e-02\n",
      "   -9.88405258e-03 -1.69383857e-04]\n",
      "  [ 5.88477778e-05  2.05104161e-03  2.99673526e-03 -4.41504284e-04\n",
      "   -7.43678071e-04 -2.13753256e-05]]\n",
      "\n",
      " [[ 3.04993067e-20  1.58272412e-18  1.34915464e-18 -8.81641755e-19\n",
      "   -2.03869708e-18  2.01655869e-19]\n",
      "  [ 1.90759183e-04  1.06277306e-02  3.70062981e-02  3.70062981e-02\n",
      "    1.06277306e-02  1.90759183e-04]\n",
      "  [ 1.90759183e-04  1.06277306e-02  3.70062981e-02  3.70062981e-02\n",
      "    1.06277306e-02  1.90759183e-04]\n",
      "  [-2.08113468e-19 -2.33947333e-19 -1.13275582e-19  2.95159056e-18\n",
      "    7.13671979e-19 -1.81627726e-19]\n",
      "  [-1.90759183e-04 -1.06277306e-02 -3.70062981e-02 -3.70062981e-02\n",
      "   -1.06277306e-02 -1.90759183e-04]\n",
      "  [-1.90759183e-04 -1.06277306e-02 -3.70062981e-02 -3.70062981e-02\n",
      "   -1.06277306e-02 -1.90759183e-04]]\n",
      "\n",
      " [[-3.08454738e-04 -1.47298139e-02 -4.29997686e-02 -3.61232895e-02\n",
      "   -9.14037451e-03 -1.48008531e-04]\n",
      "  [-5.88477778e-05 -2.05104161e-03 -2.99673526e-03  4.41504284e-04\n",
      "    7.43678071e-04  2.13753256e-05]\n",
      "  [ 2.49606960e-04  1.26787723e-02  4.00030334e-02  3.65647938e-02\n",
      "    9.88405258e-03  1.69383857e-04]\n",
      "  [ 3.08454738e-04  1.47298139e-02  4.29997686e-02  3.61232895e-02\n",
      "    9.14037451e-03  1.48008531e-04]\n",
      "  [ 5.88477778e-05  2.05104161e-03  2.99673526e-03 -4.41504284e-04\n",
      "   -7.43678071e-04 -2.13753256e-05]\n",
      "  [-2.49606960e-04 -1.26787723e-02 -4.00030334e-02 -3.65647938e-02\n",
      "   -9.88405258e-03 -1.69383857e-04]]\n",
      "\n",
      " [[-3.08454738e-04 -1.47298139e-02 -4.29997686e-02 -3.61232895e-02\n",
      "   -9.14037451e-03 -1.48008531e-04]\n",
      "  [-2.49606960e-04 -1.26787723e-02 -4.00030334e-02 -3.65647938e-02\n",
      "   -9.88405258e-03 -1.69383857e-04]\n",
      "  [ 5.88477778e-05  2.05104161e-03  2.99673526e-03 -4.41504284e-04\n",
      "   -7.43678071e-04 -2.13753256e-05]\n",
      "  [ 3.08454738e-04  1.47298139e-02  4.29997686e-02  3.61232895e-02\n",
      "    9.14037451e-03  1.48008531e-04]\n",
      "  [ 2.49606960e-04  1.26787723e-02  4.00030334e-02  3.65647938e-02\n",
      "    9.88405258e-03  1.69383857e-04]\n",
      "  [-5.88477778e-05 -2.05104161e-03 -2.99673526e-03  4.41504284e-04\n",
      "    7.43678071e-04  2.13753256e-05]]]\n"
     ]
    },
    {
     "data": {
      "text/plain": [
       "'\\nprint(ul.shape,ul)\\nprint(uh.shape,uh)\\nprint(vl.shape,vl)\\nprint(vh.shape,vh)\\nprint(wl.shape,wl)\\nprint(wh.shape,wh)\\n\\n'"
      ]
     },
     "execution_count": 50,
     "metadata": {},
     "output_type": "execute_result"
    }
   ],
   "source": [
    "r = f1['scales']['r']['1.0']\n",
    "z = f1['scales']['z']['1.0']\n",
    "th = f1['scales']['th']['1.0']\n",
    "t = f1['scales']['sim_time']\n",
    "ts = f1['scales']['timestep']\n",
    "\n",
    "th = np.asarray(th)\n",
    "z = np.asarray(z)\n",
    "r = np.asarray(r)\n",
    "t = np.asarray(t)\n",
    "ts = np.asarray(ts)\n",
    "\n",
    "ul = f1['tasks']['ul']\n",
    "uh = f1['tasks']['uh']\n",
    "vl = f1['tasks']['vl']\n",
    "vh = f1['tasks']['vh']\n",
    "wl = f1['tasks']['wl']\n",
    "wh = f1['tasks']['wh']\n",
    "pl = f1['tasks']['pl']\n",
    "ph = f1['tasks']['ph']\n",
    "\n",
    "ul = np.asarray(ul)\n",
    "uh = np.asarray(uh)\n",
    "vl = np.asarray(vl)\n",
    "vh = np.asarray(vh)\n",
    "wl = np.asarray(wl)\n",
    "wh = np.asarray(wh)\n",
    "pl = np.asarray(pl)\n",
    "ph = np.asarray(ph)\n",
    "\n",
    "\n",
    "print(r.shape,r)\n",
    "print(z.shape,z)\n",
    "print(th.shape,th)\n",
    "print(t.shape,t)\n",
    "print(ts.shape,ts)\n",
    "\n",
    "print(ul.shape,\"\\n\",ul[0])\n",
    "\n",
    "# print(pl.shape,\"\\n\",pl[0])\n",
    "# print(ph.shape,\"\\n\",ph[0])\n",
    "\n",
    "\"\"\"\n",
    "print(ul.shape,ul)\n",
    "print(uh.shape,uh)\n",
    "print(vl.shape,vl)\n",
    "print(vh.shape,vh)\n",
    "print(wl.shape,wl)\n",
    "print(wh.shape,wh)\n",
    "\n",
    "\"\"\""
   ]
  },
  {
   "cell_type": "markdown",
   "id": "18effc50",
   "metadata": {},
   "source": [
    "## Fast Fourier Transform (FFT) and plots\n",
    "\n",
    "Applying Fast Fourier transform over a single dimension $\\theta$ and $z$ to avergae out over that dimension and reduce the dimensionality of the data.\n",
    "The FFT is applied on each of the timestamp\n",
    "\n",
    "We first take a timestamp, so we have a 3D array consisting of 4 field values in the $\\theta$, $r$ and $z$ direction\n",
    "\n",
    "We also plot the fourier transform and the corresponding power specturm"
   ]
  },
  {
   "cell_type": "code",
   "execution_count": 80,
   "id": "357f0ea3",
   "metadata": {},
   "outputs": [
    {
     "name": "stdout",
     "output_type": "stream",
     "text": [
      "(6, 6) (6, 6) (6, 6)\n",
      "(108,) <class 'numpy.ndarray'>\n",
      "(108, 108)\n"
     ]
    }
   ],
   "source": [
    "## Here the timestamp is 0, the first set of values is taken ##\n",
    "## The 4 DImensioanl array has the fields, t, r, z, theta ##\n",
    "\n",
    "timeslice = 0;\n",
    "\n",
    "v_r = ul + uh\n",
    "v_theta = vl + vh\n",
    "v_z = wl + wh\n",
    "\n",
    "v_r_f = np.fft.fft(v_r[0],axis=2)\n",
    "v_theta_f = np.fft.fft(v_theta[0],axis=2)\n",
    "v_z_f = np.fft.fft(v_z[0],axis=2)\n",
    "\n",
    "v_r_f = np.sum(v_r_f, axis=2)/v_r_f.shape[2]\n",
    "v_theta_f = np.sum(v_theta_f, axis=2)/v_theta_f.shape[2]\n",
    "v_z_f = np.sum(v_z_f, axis=2)/v_z_f.shape[2]\n",
    "\n",
    "print(v_r_f.shape,v_theta_f.shape, v_z_f.shape)\n",
    "\n",
    "vr = v_r_f.flatten()\n",
    "vtheta = v_theta_f.flatten()\n",
    "vz = v_z_f.flatten()\n",
    "\n",
    "v = np.append(vr, [vtheta, vz])\n",
    "print(v.shape, type(v))\n",
    "\n",
    "v = np.asmatrix(v)\n",
    "C = np.matmul(v.T,v)\n",
    "print(C.shape)"
   ]
  },
  {
   "cell_type": "code",
   "execution_count": 84,
   "id": "86facf02",
   "metadata": {},
   "outputs": [
    {
     "name": "stdout",
     "output_type": "stream",
     "text": [
      "[-9.75859628e-17 -5.28397041e-17 -3.59724766e-17 -3.34303287e-17\n",
      " -2.70705748e-17 -2.62459796e-17 -2.49329545e-17 -1.98724714e-17\n",
      " -1.78561595e-17 -1.60985255e-17 -1.51832583e-17 -1.41076615e-17\n",
      " -1.30345051e-17 -1.05786295e-17 -1.03972445e-17 -9.37422884e-18\n",
      " -8.79949548e-18 -8.16177952e-18 -7.10196816e-18 -6.18242019e-18\n",
      " -5.81494607e-18 -5.47277790e-18 -4.97209549e-18 -4.09896014e-18\n",
      " -3.79489914e-18 -3.58544428e-18 -2.23550734e-18 -1.85447706e-18\n",
      " -1.44534906e-18 -1.30945321e-18 -1.07996102e-18 -1.71311876e-19\n",
      " -1.35921685e-19 -3.43460581e-20 -3.32434837e-20 -2.50679667e-20\n",
      " -2.04502854e-20 -1.09250060e-20 -8.30955942e-21 -5.06538751e-21\n",
      " -4.06711694e-21 -3.11558356e-21 -2.19759293e-21 -1.86546925e-21\n",
      " -9.05367688e-22 -7.54242852e-22 -4.17415148e-22 -1.68422038e-22\n",
      " -1.11907960e-22 -4.34770325e-23 -2.99101832e-33 -2.31659833e-33\n",
      " -1.33281735e-33 -9.35451555e-34 -5.71665283e-34 -1.20768818e-36\n",
      "  2.07438303e-50  5.56181274e-36  1.77626491e-34  1.22255231e-33\n",
      "  1.78464912e-33  2.73483404e-33  3.24289986e-33  7.53063048e-23\n",
      "  8.18181112e-23  2.07199184e-22  3.42601861e-22  7.26388579e-22\n",
      "  8.57005522e-22  1.07495663e-21  2.06949613e-21  2.46920398e-21\n",
      "  4.05536542e-21  4.89674356e-21  6.74266630e-21  1.02522083e-20\n",
      "  2.58336034e-20  3.12564761e-19  1.05038042e-18  1.60572543e-18\n",
      "  1.70697103e-18  1.86946144e-18  2.07348694e-18  3.22019132e-18\n",
      "  3.82514215e-18  4.58542605e-18  5.03072080e-18  5.09412948e-18\n",
      "  5.84372628e-18  6.63315670e-18  6.98428919e-18  8.52360283e-18\n",
      "  8.93500404e-18  1.09483334e-17  1.12601176e-17  1.20822590e-17\n",
      "  1.27673138e-17  1.53954108e-17  1.67276299e-17  1.90012240e-17\n",
      "  1.94873915e-17  2.15538288e-17  2.46906597e-17  2.64949802e-17\n",
      "  2.68975859e-17  3.28910717e-17  5.66099547e-17  1.18853428e-01]\n"
     ]
    }
   ],
   "source": [
    "## Calculating the eignevalues ##\n",
    "\n",
    "eigvals, eigvecs = np.linalg.eigh(np.asarray(C))\n",
    "print(eigvals)"
   ]
  }
 ],
 "metadata": {
  "kernelspec": {
   "display_name": "Python 3",
   "language": "python",
   "name": "python3"
  },
  "language_info": {
   "codemirror_mode": {
    "name": "ipython",
    "version": 3
   },
   "file_extension": ".py",
   "mimetype": "text/x-python",
   "name": "python",
   "nbconvert_exporter": "python",
   "pygments_lexer": "ipython3",
   "version": "3.8.10"
  }
 },
 "nbformat": 4,
 "nbformat_minor": 5
}

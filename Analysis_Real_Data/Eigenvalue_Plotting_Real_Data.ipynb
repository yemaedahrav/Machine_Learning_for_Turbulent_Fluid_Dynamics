{
 "cells": [
  {
   "cell_type": "code",
   "execution_count": 1,
   "id": "3121f72d",
   "metadata": {},
   "outputs": [],
   "source": [
    "import sys\n",
    "import time\n",
    "import numpy as np  \n",
    "import matplotlib.pyplot as plt\n",
    "import matplotlib.colors as colors\n",
    "import h5py"
   ]
  },
  {
   "cell_type": "code",
   "execution_count": 2,
   "id": "ac623002",
   "metadata": {},
   "outputs": [
    {
     "name": "stdout",
     "output_type": "stream",
     "text": [
      "scales\n",
      "scales/Tr\n",
      "scales/constant\n",
      "scales/iteration\n",
      "scales/kth\n",
      "scales/kz\n",
      "scales/r\n",
      "scales/r/1.0\n",
      "scales/sim_time\n",
      "scales/th\n",
      "scales/th/1.0\n",
      "scales/timestep\n",
      "scales/wall_time\n",
      "scales/world_time\n",
      "scales/write_number\n",
      "scales/z\n",
      "scales/z/1.0\n",
      "tasks\n",
      "tasks/uh\n",
      "tasks/ul\n",
      "tasks/vh\n",
      "tasks/vl\n",
      "tasks/wh\n",
      "tasks/wl\n"
     ]
    }
   ],
   "source": [
    "f = h5py.File('state_variables24_10_g_s3.h5', 'r')\n",
    "\n",
    "def printname(name):\n",
    "    print(name)\n",
    "    \n",
    "f.visit(printname)"
   ]
  },
  {
   "cell_type": "code",
   "execution_count": 4,
   "id": "ac587027",
   "metadata": {},
   "outputs": [],
   "source": [
    "r = f['scales']['r']['1.0']\n",
    "z = f['scales']['z']['1.0']\n",
    "th = f['scales']['th']['1.0']\n",
    "t = f['scales']['sim_time']\n",
    "\n",
    "th = np.asarray(th)\n",
    "z = np.asarray(z)\n",
    "r = np.asarray(r)\n",
    "t = np.asarray(t)\n",
    "\n",
    "ul = f['tasks']['ul']\n",
    "uh = f['tasks']['uh']\n",
    "vl = f['tasks']['vl']\n",
    "vh = f['tasks']['vh']\n",
    "wl = f['tasks']['wl']\n",
    "wh = f['tasks']['wh']a\n",
    "\n",
    "ul = np.asarray(ul)\n",
    "uh = np.asarray(uh)\n",
    "vl = np.asarray(vl)\n",
    "vh = np.asarray(vh)\n",
    "wl = np.asarray(wl)\n",
    "wh = np.asarray(wh)"
   ]
  },
  {
   "cell_type": "code",
   "execution_count": null,
   "id": "ef214582",
   "metadata": {
    "scrolled": true
   },
   "outputs": [],
   "source": [
    "N_r = r.shape[0]\n",
    "N_th = th.shape[0]\n",
    "N_z = z.shape[0]\n",
    "N_t = t.shape[0]\n",
    "\n",
    "v_r = ul + uh\n",
    "v_theta = vl + vh\n",
    "v_z = wl + wh\n",
    "\n",
    "\n",
    "## The dimensions correspond to a is t, r, theta, z ##\n",
    "\n",
    "\"\"\"\n",
    "time_stamp = 0;\n",
    "v_r_f = np.fft.fft(v_r[time_stamp],axis=1)\n",
    "v_theta_f = np.fft.fft(v_theta[time_stamp],axis=1)\n",
    "v_z_f = np.fft.fft(v_z[time_stamp],axis=1)\n",
    "\n",
    "\"\"\"\n",
    "\n",
    "\n",
    "## This 2-Dimensional array stores the eigenvalues for each corresponding wavenumber m and time t  pair ##\n",
    "Q = np.zeros((N_th, N_t))\n",
    "\n",
    "# print(Q.shape)\n",
    "# print(Q)\n",
    "\n",
    "for time_stamp in range(N_t):\n",
    "    v_r_f = np.fft.fft(v_r[time_stamp],axis=1)\n",
    "    v_theta_f = np.fft.fft(v_theta[time_stamp],axis=1)\n",
    "    v_z_f = np.fft.fft(v_z[time_stamp],axis=1)\n",
    "    for m in range(N_th):\n",
    "        eigen_val = 0\n",
    "        for R in range(1,N_r):\n",
    "            for Z in range(1,N_z):\n",
    "                Q_v_r = v_r_f[R][m][Z]\n",
    "                Q_v_theta = v_theta_f[R][m][Z]\n",
    "                Q_v_z = v_z_f[R][m][Z]\n",
    "                power_amplitude = (Q_v_r)*np.conj(Q_v_r) + (Q_v_theta)*np.conj(Q_v_theta) + (Q_v_z)*np.conj(Q_v_z)\n",
    "                ## print(power_amplitude)   just a check to see that all these values are real ##\n",
    "                eigen_val += r[R]*(r[R]-r[R-1])*(z[Z]-z[Z-1])*(power_amplitude)\n",
    "        Q[m][time_stamp] = 2*(np.pi)*eigen_val "
   ]
  },
  {
   "cell_type": "code",
   "execution_count": null,
   "id": "cd696f37",
   "metadata": {},
   "outputs": [],
   "source": [
    "for time_slice in range(N_t):\n",
    "    Q_t = np.asarray(Q[:, time_slice])\n",
    "    # print(Q_t.shape)\n",
    "    # print(Q_t)\n",
    "    plt.plot(Q_t,color='green', marker='o', linestyle='dashed',linewidth=1, markersize=5)\n",
    "    plt.xlabel('Wavenumebr m at time t={}'.format(time_slice))\n",
    "    plt.ylabel('Eigenvalue')\n",
    "    plt.show()"
   ]
  }
 ],
 "metadata": {
  "kernelspec": {
   "display_name": "Python 3",
   "language": "python",
   "name": "python3"
  },
  "language_info": {
   "codemirror_mode": {
    "name": "ipython",
    "version": 3
   },
   "file_extension": ".py",
   "mimetype": "text/x-python",
   "name": "python",
   "nbconvert_exporter": "python",
   "pygments_lexer": "ipython3",
   "version": "3.8.8"
  }
 },
 "nbformat": 4,
 "nbformat_minor": 5
}

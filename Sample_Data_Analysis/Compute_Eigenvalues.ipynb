{
 "cells": [
  {
   "cell_type": "code",
   "execution_count": 1,
   "id": "222170c9",
   "metadata": {},
   "outputs": [],
   "source": [
    "import sys\n",
    "import time\n",
    "import numpy as np  \n",
    "import matplotlib.pyplot as plt\n",
    "import matplotlib.colors as colors\n",
    "import h5py\n",
    "\n",
    "from numba import jit,njit"
   ]
  },
  {
   "cell_type": "code",
   "execution_count": 2,
   "id": "1a67f932",
   "metadata": {},
   "outputs": [
    {
     "name": "stdout",
     "output_type": "stream",
     "text": [
      "scales\n",
      "scales/Tr\n",
      "scales/constant\n",
      "scales/iteration\n",
      "scales/kth\n",
      "scales/kz\n",
      "scales/r\n",
      "scales/r/1.0\n",
      "scales/sim_time\n",
      "scales/th\n",
      "scales/th/1.0\n",
      "scales/timestep\n",
      "scales/wall_time\n",
      "scales/world_time\n",
      "scales/write_number\n",
      "scales/z\n",
      "scales/z/1.0\n",
      "tasks\n",
      "tasks/ph\n",
      "tasks/pl\n",
      "tasks/uh\n",
      "tasks/ul\n",
      "tasks/vh\n",
      "tasks/vl\n",
      "tasks/wh\n",
      "tasks/wl\n"
     ]
    }
   ],
   "source": [
    "f = h5py.File('small_QL_g_s1_p0.h5', 'r')\n",
    "\n",
    "def printname(name):\n",
    "    print(name)\n",
    "f.visit(printname)\n",
    "\n",
    "time_stamp = 0"
   ]
  },
  {
   "cell_type": "code",
   "execution_count": 3,
   "id": "4ede6a5c",
   "metadata": {},
   "outputs": [
    {
     "name": "stdout",
     "output_type": "stream",
     "text": [
      "N_r:  6\n",
      "N_th:  6\n",
      "N_z:  6\n",
      "N_t:  10\n"
     ]
    }
   ],
   "source": [
    "r = f['scales']['r']['1.0']\n",
    "z = f['scales']['z']['1.0']\n",
    "th = f['scales']['th']['1.0']\n",
    "t = f['scales']['sim_time']\n",
    "\n",
    "th = np.asarray(th)\n",
    "z = np.asarray(z)\n",
    "r = np.asarray(r)\n",
    "t = np.asarray(t)\n",
    "\n",
    "N_r = r.shape[0]\n",
    "N_th = th.shape[0]\n",
    "N_z = z.shape[0]\n",
    "N_t = t.shape[0]\n",
    "\n",
    "print(\"N_r: \", N_r)\n",
    "print(\"N_th: \", N_th)\n",
    "print(\"N_z: \", N_z)\n",
    "print(\"N_t: \", N_t)"
   ]
  },
  {
   "cell_type": "code",
   "execution_count": 4,
   "id": "94c928f5",
   "metadata": {},
   "outputs": [
    {
     "name": "stdout",
     "output_type": "stream",
     "text": [
      "v_r shape:  (6, 6, 6)\n",
      "v_theta shape:  (6, 6, 6)\n",
      "v_z shape:  (6, 6, 6)\n"
     ]
    }
   ],
   "source": [
    "ul = f['tasks']['ul'][time_stamp]\n",
    "uh = f['tasks']['uh'][time_stamp]\n",
    "\n",
    "vl = f['tasks']['vl'][time_stamp]\n",
    "vh = f['tasks']['vh'][time_stamp]\n",
    "\n",
    "wl = f['tasks']['wl'][time_stamp]\n",
    "wh = f['tasks']['wh'][time_stamp]\n",
    "\n",
    "ul = np.asarray(ul)\n",
    "uh = np.asarray(uh)\n",
    "\n",
    "vl = np.asarray(vl)\n",
    "vh = np.asarray(vh)\n",
    "\n",
    "wl = np.asarray(wl)\n",
    "wh = np.asarray(wh)\n",
    "\n",
    "v_r = ul + uh\n",
    "v_theta = vl + vh\n",
    "v_z = wl + wh\n",
    "\n",
    "print(\"v_r shape: \",v_r.shape)\n",
    "print(\"v_theta shape: \",v_theta.shape)\n",
    "print(\"v_z shape: \",v_z.shape)"
   ]
  },
  {
   "cell_type": "code",
   "execution_count": 5,
   "id": "ef7f38f3",
   "metadata": {},
   "outputs": [
    {
     "name": "stdout",
     "output_type": "stream",
     "text": [
      "[0.         0.08333333 0.16666667 0.25       0.33333333 0.41666667]\n"
     ]
    }
   ],
   "source": [
    "print(z)"
   ]
  },
  {
   "cell_type": "code",
   "execution_count": 6,
   "id": "052ca150",
   "metadata": {},
   "outputs": [
    {
     "name": "stdout",
     "output_type": "stream",
     "text": [
      "[0.05085185 0.05732233 0.06852952 0.08147048 0.09267767 0.09914815]\n"
     ]
    }
   ],
   "source": [
    "print(r)"
   ]
  },
  {
   "cell_type": "code",
   "execution_count": 7,
   "id": "f7ee83ad",
   "metadata": {
    "scrolled": true
   },
   "outputs": [
    {
     "name": "stdout",
     "output_type": "stream",
     "text": [
      "[0.         1.04719755 2.0943951  3.14159265 4.1887902  5.23598776]\n"
     ]
    }
   ],
   "source": [
    "print(th)"
   ]
  },
  {
   "cell_type": "code",
   "execution_count": 8,
   "id": "c57d45ce",
   "metadata": {},
   "outputs": [
    {
     "name": "stdout",
     "output_type": "stream",
     "text": [
      "<class 'numpy.ndarray'>\n",
      "<class 'numpy.complex128'>\n"
     ]
    }
   ],
   "source": [
    "v_r_f = np.fft.fft(v_r,axis=1)\n",
    "v_theta_f = np.fft.fft(v_theta,axis=1)\n",
    "v_z_f = np.fft.fft(v_z,axis=1)\n",
    "\n",
    "print(type(v_z_f))\n",
    "print(type(v_z_f[0][0][0]))"
   ]
  },
  {
   "cell_type": "code",
   "execution_count": 64,
   "id": "efb26808",
   "metadata": {},
   "outputs": [],
   "source": [
    "@njit(fastmath = True, parallel = True)\n",
    "def compute_eigen(r, z, N_th, N_r, N_z, v_r_f, v_theta_f, v_z_f):\n",
    "    dz = z[1]-z[0]\n",
    "#     kTh = np.arange(N_th, dtype=np.int32)\n",
    "#     kTh = np.reshape(kTh,(kTh.shape[0],1))\n",
    "    Q = np.zeros((N_th,1),dtype=np.float64)    \n",
    "#     print(Q.shape)\n",
    "#     print(\"Q: \",type(Q))\n",
    "#     print(\"Q[0]: \",type(Q[0][0]))\n",
    "\n",
    "    for m in range(N_th):\n",
    "        eigen_val = 0.0\n",
    "        #print(type(eigen_val))\n",
    "        for R in range(N_r):\n",
    "            # print(\"R: \",R)\n",
    "            if R==0:\n",
    "                rdr = r[R]*(r[1]-r[0]) \n",
    "            else:\n",
    "                rdr = r[R]*(r[R]-r[R-1])\n",
    "            #   rdr = r[R]*(r[R]-r[R-1])\n",
    "            for Z in range(1,N_z):\n",
    "                Q_v_r = v_r_f[Z][m][R]\n",
    "                Q_v_theta = v_theta_f[Z][m][R]\n",
    "                Q_v_z = v_z_f[Z][m][R]\n",
    "                \n",
    "                power_amplitude = (Q_v_r)*np.conj(Q_v_r) + (Q_v_theta)*np.conj(Q_v_theta) + (Q_v_z)*np.conj(Q_v_z)\n",
    "                # print(type(power_amplitude))\n",
    "                power_amplitude = power_amplitude.real\n",
    "                # print(power_amplitude)\n",
    "                # print(power_amplitude.shape\n",
    "                eigen_val += (rdr*power_amplitude)\n",
    "        Q[m][0] = 2*(np.pi)*dz*eigen_val\n",
    "\n",
    "#     par_func = np.vectorize(compute_mode)    \n",
    "#     Q = par_func(kTh);\n",
    "    \n",
    "#     print(Q.shape)\n",
    "#     print(\"Q: \",type(Q))\n",
    "    return Q"
   ]
  },
  {
   "cell_type": "code",
   "execution_count": 65,
   "id": "7c43c997",
   "metadata": {},
   "outputs": [
    {
     "data": {
      "image/png": "[encoded data removed]",
      "text/plain": [
       "<Figure size 720x504 with 1 Axes>"
      ]
     },
     "metadata": {
      "needs_background": "light"
     },
     "output_type": "display_data"
    }
   ],
   "source": [
    "Q_t = compute_eigen(r, z, N_th, N_r, N_z, v_r_f, v_theta_f, v_z_f)\n",
    "# print(\"Q_t: \",Q_t)\n",
    "# print(\"Q Shape: \",Q_t.shape)\n",
    "\n",
    "f = plt.figure()\n",
    "f.set_figwidth(10)\n",
    "f.set_figheight(7)\n",
    "\n",
    "plt.plot(Q_t,color='green', marker='o', linestyle='dashed',linewidth=1, markersize=5)\n",
    "plt.xlabel('Wavenumebr m at time t={}'.format(0))\n",
    "plt.ylabel('Eigenvalue')\n",
    "file_name = str(t[0])+\".png\"\n",
    "plt.savefig(file_name)\n",
    "plt.show()"
   ]
  }
 ],
 "metadata": {
  "kernelspec": {
   "display_name": "Python 3",
   "language": "python",
   "name": "python3"
  },
  "language_info": {
   "codemirror_mode": {
    "name": "ipython",
    "version": 3
   },
   "file_extension": ".py",
   "mimetype": "text/x-python",
   "name": "python",
   "nbconvert_exporter": "python",
   "pygments_lexer": "ipython3",
   "version": "3.8.8"
  }
 },
 "nbformat": 4,
 "nbformat_minor": 5
}

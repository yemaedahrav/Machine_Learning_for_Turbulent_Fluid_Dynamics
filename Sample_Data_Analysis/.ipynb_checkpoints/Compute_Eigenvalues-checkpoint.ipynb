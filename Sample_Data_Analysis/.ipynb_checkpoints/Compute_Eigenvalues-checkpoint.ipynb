{
 "cells": [
  {
   "cell_type": "code",
   "execution_count": null,
   "id": "222170c9",
   "metadata": {},
   "outputs": [],
   "source": [
    "import sys\n",
    "import time\n",
    "import numpy as np  \n",
    "import matplotlib.pyplot as plt\n",
    "import matplotlib.colors as colors\n",
    "import h5py\n",
    "\n",
    "from numba import jit,njit"
   ]
  },
  {
   "cell_type": "code",
   "execution_count": null,
   "id": "1a67f932",
   "metadata": {},
   "outputs": [],
   "source": [
    "f = h5py.File('small_QL_g_s1_p0.h5', 'r')\n",
    "\n",
    "def printname(name):\n",
    "    print(name)\n",
    "f.visit(printname)\n",
    "\n",
    "time_stamp = 0\n",
    "\n",
    "r = f['scales']['r']['1.0']\n",
    "z = f['scales']['z']['1.0']\n",
    "th = f['scales']['th']['1.0']\n",
    "t = f['scales']['sim_time']\n",
    "\n",
    "th = np.asarray(th)\n",
    "z = np.asarray(z)\n",
    "r = np.asarray(r)\n",
    "t = np.asarray(t)\n",
    "\n",
    "\n",
    "wh = np.asarray(wh)\n",
    "\n"
   ]
  },
  {
   "cell_type": "code",
   "execution_count": null,
   "id": "070a54cd",
   "metadata": {},
   "outputs": [],
   "source": []
  },
  {
   "cell_type": "code",
   "execution_count": null,
   "id": "5469cf34",
   "metadata": {},
   "outputs": [],
   "source": [
    "N_r = r.shape[0]\n",
    "N_th = th.shape[0]\n",
    "N_z = z.shape[0]\n",
    "N_t = t.shape[0]\n",
    "\n",
    "print(\"N_r: \", N_r)\n",
    "print(\"N_th: \", N_th)\n",
    "print(\"N_z: \", N_z)\n",
    "print(\"N_t: \", N_t)\n",
    "\n",
    "v_r = ul + uh\n",
    "v_theta = vl + vh\n",
    "v_z = wl + wh\n",
    "\n",
    "print(\"v_r shape: \",v_r.shape)\n",
    "print(\"v_theta shape: \",v_theta.shape)\n",
    "print(\"v_z shape: \",v_z.shape)"
   ]
  },
  {
   "cell_type": "code",
   "execution_count": null,
   "id": "ef7f38f3",
   "metadata": {},
   "outputs": [],
   "source": [
    "print(z)"
   ]
  },
  {
   "cell_type": "code",
   "execution_count": null,
   "id": "052ca150",
   "metadata": {},
   "outputs": [],
   "source": [
    "print(r)"
   ]
  },
  {
   "cell_type": "code",
   "execution_count": null,
   "id": "f7ee83ad",
   "metadata": {
    "scrolled": true
   },
   "outputs": [],
   "source": [
    "print(th)"
   ]
  },
  {
   "cell_type": "code",
   "execution_count": null,
   "id": "c57d45ce",
   "metadata": {},
   "outputs": [],
   "source": [
    "v_r_f = np.fft.fft(v_r,axis=1)\n",
    "v_theta_f = np.fft.fft(v_theta,axis=1)\n",
    "v_z_f = np.fft.fft(v_z,axis=1)\n",
    "\n",
    "print(type(v_z_f))\n",
    "print(type(v_z_f[0][0][0]))"
   ]
  },
  {
   "cell_type": "code",
   "execution_count": null,
   "id": "7fa4d980",
   "metadata": {},
   "outputs": [],
   "source": [
    "A = np.arange(10)\n",
    "print(type(A))\n",
    "print(A.shape)"
   ]
  },
  {
   "cell_type": "code",
   "execution_count": null,
   "id": "efb26808",
   "metadata": {},
   "outputs": [],
   "source": [
    "# @njit(fastmath = True, parallel = True)\n",
    "def compute_eigen(r, z, N_th, N_r, N_z, v_r_f, v_theta_f, v_z_f):\n",
    "    dz = z[1]-z[0]\n",
    "    def compute_mode(m):\n",
    "        #print(\"m: \",m)\n",
    "        eigen_val = 0.0\n",
    "        #print(type(eigen_val))\n",
    "        for R in range(1,N_r):\n",
    "            print(\"R: \",R)\n",
    "#             if R==0:\n",
    "#                 rdr = r[R]*(r[1]-r[0]) \n",
    "#             else:\n",
    "#                 rdr = r[R]*(r[R]-r[R-1])\n",
    "            rdr = r[R]*(r[R]-r[R-1])\n",
    "            for Z in range(1,N_z):\n",
    "                Q_v_r = v_r_f[Z][m][R]\n",
    "                Q_v_theta = v_theta_f[Z][m][R]\n",
    "                Q_v_z = v_z_f[Z][m][R]\n",
    "                power_amplitude = (Q_v_r)*np.conj(Q_v_r) + (Q_v_theta)*np.conj(Q_v_theta) + (Q_v_z)*np.conj(Q_v_z)\n",
    "                #print(type(power_amplitude))\n",
    "                #print(power_amplitude.shape)\n",
    "                eigen_val += (rdr*power_amplitude)\n",
    "        eigen_val*=dz\n",
    "        Q_m = 2*(np.pi)*eigen_val\n",
    "        return Q_m\n",
    "    \n",
    "    kTh = np.arange(N_th, dtype=np.int32)\n",
    "    print(kTh.shape)\n",
    "    print(\"kTh: \",type(kTh))\n",
    "    Q = compute_mode(kTh);\n",
    "    print(Q.shape)\n",
    "    print(\"Q: \",type(Q))\n",
    "    return Q"
   ]
  },
  {
   "cell_type": "code",
   "execution_count": null,
   "id": "7c43c997",
   "metadata": {},
   "outputs": [],
   "source": [
    "Q_t = compute_eigen(r, z, N_th, N_r, N_z, v_r_f, v_theta_f, v_z_f)\n",
    "print(\"Q_t: \",Q_t)\n",
    "print(\"Q Shape: \",Q_t.shape)\n",
    "\n",
    "plt.plot(Q_t,color='green', marker='o', linestyle='dashed',linewidth=1, markersize=5)\n",
    "plt.xlabel('Wavenumebr m at time t={}'.format(0))\n",
    "plt.ylabel('Eigenvalue')\n",
    "file_name = str(t[0])+\".png\"\n",
    "## plt.show()\n",
    "plt.savefig(file_name)"
   ]
  }
 ],
 "metadata": {
  "kernelspec": {
   "display_name": "Python 3",
   "language": "python",
   "name": "python3"
  },
  "language_info": {
   "codemirror_mode": {
    "name": "ipython",
    "version": 3
   },
   "file_extension": ".py",
   "mimetype": "text/x-python",
   "name": "python",
   "nbconvert_exporter": "python",
   "pygments_lexer": "ipython3",
   "version": "3.8.8"
  }
 },
 "nbformat": 4,
 "nbformat_minor": 5
}
